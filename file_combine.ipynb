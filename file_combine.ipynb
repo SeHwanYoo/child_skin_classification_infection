{
 "cells": [
  {
   "cell_type": "code",
   "execution_count": 6,
   "metadata": {},
   "outputs": [],
   "source": [
    "import os\n",
    "from glob import glob\n",
    "import shutil"
   ]
  },
  {
   "cell_type": "code",
   "execution_count": 7,
   "metadata": {},
   "outputs": [],
   "source": [
    "base_path1 = 'E:/datasets/Child Skin Disease/Total_Dataset'\n",
    "base_path2 = 'E:/datasets/Child Skin Disease/Total_Dataset_infection'"
   ]
  },
  {
   "cell_type": "code",
   "execution_count": 8,
   "metadata": {},
   "outputs": [],
   "source": [
    "name_dict = {\n",
    "    'acnescarintegrated' : ['Acne scar', 'acnescar'], # add \n",
    "    'depressedscar' : ['Acne scar', 'acnescar'], \n",
    "    'acquiredtuftedhemangioma' : ['Acquired tufted angioma', 'acquiredtuftedangioma'], \n",
    "    'acquiredtuftedhamangioma' : ['Acquired tufted angioma','acquiredtuftedangioma'], # add a and e\n",
    "    'cyst' : ['Epidermal cyst', 'epidermalcyst'], \n",
    "    'cystintegrated' : ['Epidermal cyst', 'epidermalcyst'], # add\n",
    "    'infantilehemangioma' : ['Hemangioma', 'hemangioma'],\n",
    "    'hemangiomaintegrated' : ['Hemangioma', 'hemangioma'],\n",
    "    'ilven': ['Inflammatory linear verrucous epidermal nevus', 'inflammatorylinearverrucousepidermalnevus']\n",
    "}\n",
    "\n",
    "n_infection = ['Abscess',\n",
    "               'Cellulitis',\n",
    "               'Chicken pox (varicella)',\n",
    "               'Cutaneous larva migrans',\n",
    "               'Eczema herpeticum',\n",
    "               'Folliculitis',\n",
    "               'Furuncle',\n",
    "               'Green nail syndrome',\n",
    "               'Herpes simplex infection',\n",
    "               'Herpes zoster',\n",
    "               'Impetigo',\n",
    "               'Molluscum contagiosum',\n",
    "               'Paronychia',\n",
    "               'Staphylococcal scalded skin syndrome',\n",
    "               'Tinea capitis',\n",
    "               'Tinea corporis',\n",
    "               'Tinea cruris',\n",
    "               'Tinea faciale', \n",
    "               'Tinea manus',\n",
    "               'Tinea pedis',\n",
    "               'Verruca plana',\n",
    "               'Viral exanthem',\n",
    "               'Wart']"
   ]
  },
  {
   "cell_type": "code",
   "execution_count": 9,
   "metadata": {},
   "outputs": [],
   "source": [
    "train_list = [0, 1, 2, 3, 4, 5, 6, 9]\n",
    "test_list = [7, 8]"
   ]
  },
  {
   "cell_type": "code",
   "execution_count": 10,
   "metadata": {},
   "outputs": [],
   "source": [
    "for t in train_list:\n",
    "    folder_list = os.listdir(os.path.join(base_path1, f'H{t}'))\n",
    "    \n",
    "    for f in folder_list:\n",
    "        # print(f)\n",
    "        \n",
    "        img_list = glob(os.path.join(base_path1, f'H{t}', f, '*.jpg'))\n",
    "        f_name = f.lower().replace(' ', '')\n",
    "        \n",
    "        if f_name in name_dict: \n",
    "            f_name = name_dict[f_name][0]\n",
    "        else:\n",
    "            f_name = f\n",
    "            \n",
    "        infection_name = 'non-infection'\n",
    "        if f_name in n_infection:\n",
    "            infection_name = 'infection'\n",
    "            \n",
    "        # print(f)\n",
    "            \n",
    "        for img in img_list:\n",
    "            # source = os.path.join(base_path1, f'H{t}', f)\n",
    "            # print(f'Source : {img}')\n",
    "            # print(f'Target : {f_name}')\n",
    "            # print('-----------------------')\n",
    "            \n",
    "            target = os.path.join(base_path2, 'Train', infection_name)\n",
    "\n",
    "            if not os.path.exists(target):\n",
    "                os.mkdir(target)\n",
    "                \n",
    "            shutil.copy(img, os.path.join(target, img.split('\\\\')[-1]))\n",
    "        "
   ]
  },
  {
   "cell_type": "code",
   "execution_count": 11,
   "metadata": {},
   "outputs": [],
   "source": [
    "for t in test_list:\n",
    "    folder_list = os.listdir(os.path.join(base_path1, f'H{t}'))\n",
    "    \n",
    "    for f in folder_list:\n",
    "        # print(f)\n",
    "        \n",
    "        img_list = glob(os.path.join(base_path1, f'H{t}', f, '*.jpg'))\n",
    "        f_name = f.lower().replace(' ', '')\n",
    "        \n",
    "        if f_name in name_dict: \n",
    "            f_name = name_dict[f_name][0]\n",
    "        else:\n",
    "            f_name = f\n",
    "            \n",
    "        infection_name = 'non-infection'\n",
    "        if f_name in n_infection:\n",
    "            infection_name = 'infection'\n",
    "            \n",
    "        # print(f)\n",
    "            \n",
    "        for img in img_list:\n",
    "            # source = os.path.join(base_path1, f'H{t}', f)\n",
    "            # print(f'Source : {img}')\n",
    "            # print(f'Target : {f_name}')\n",
    "            # print('-----------------------')\n",
    "            \n",
    "            target = os.path.join(base_path2, 'Test', infection_name)\n",
    "\n",
    "            if not os.path.exists(target):\n",
    "                os.mkdir(target)\n",
    "                \n",
    "            shutil.copy(img, os.path.join(target, img.split('\\\\')[-1]))"
   ]
  },
  {
   "cell_type": "code",
   "execution_count": null,
   "metadata": {},
   "outputs": [],
   "source": []
  }
 ],
 "metadata": {
  "kernelspec": {
   "display_name": "Python 3.9.12 ('base')",
   "language": "python",
   "name": "python3"
  },
  "language_info": {
   "codemirror_mode": {
    "name": "ipython",
    "version": 3
   },
   "file_extension": ".py",
   "mimetype": "text/x-python",
   "name": "python",
   "nbconvert_exporter": "python",
   "pygments_lexer": "ipython3",
   "version": "3.9.12"
  },
  "orig_nbformat": 4,
  "vscode": {
   "interpreter": {
    "hash": "19d1d53a962d236aa061289c2ac16dc8e6d9648c89fe79f459ae9a3493bc67b4"
   }
  }
 },
 "nbformat": 4,
 "nbformat_minor": 2
}
