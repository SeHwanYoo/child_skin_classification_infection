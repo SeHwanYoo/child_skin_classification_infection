{
 "cells": [
  {
   "cell_type": "code",
   "execution_count": 1,
   "metadata": {},
   "outputs": [],
   "source": [
    "import tensorflow as tf"
   ]
  },
  {
   "cell_type": "code",
   "execution_count": 4,
   "metadata": {},
   "outputs": [],
   "source": [
    "(x_train, y_train), (x_test, y_test) = tf.keras.datasets.cifar10.load_data()"
   ]
  },
  {
   "cell_type": "code",
   "execution_count": 14,
   "metadata": {},
   "outputs": [
    {
     "data": {
      "text/plain": [
       "(50000, 32, 32, 3)"
      ]
     },
     "execution_count": 14,
     "metadata": {},
     "output_type": "execute_result"
    }
   ],
   "source": [
    "x_train.shape"
   ]
  },
  {
   "cell_type": "code",
   "execution_count": 15,
   "metadata": {},
   "outputs": [],
   "source": [
    "# model = tf.keras.Sequential([\n",
    "#     tf.keras.layers.Dense(10, activation='softmax'),\n",
    "#     tf.keras.layers.Dense(10, activation='softmax'),\n",
    "#     tf.keras.layers.Dense(10, activation='softmax'), \n",
    "#     tf.keras.layers.Dense(10, activation='softmax')\n",
    "# ])\n",
    "\n",
    "def create_model():\n",
    "    inputs = tf.keras.Input((32, 32, 3))\n",
    "\n",
    "    net = tf.keras.layers.Conv2D(32, (3, 3), padding='same')(inputs) \n",
    "    net = tf.keras.layers.Activation('relu')(net)\n",
    "    net = tf.keras.layers.Conv2D(32, (3, 3), padding='same')(inputs) \n",
    "    net = tf.keras.layers.Activation('relu')(net)\n",
    "    net = tf.keras.layers.MaxPooling2D(pool_size=(2, 2))(net) \n",
    "    net = tf.keras.layers.Dropout(0.25)(net)\n",
    "\n",
    "    net = tf.keras.layers.Conv2D(128, (3, 3), padding='same')(net) \n",
    "    net = tf.keras.layers.Activation('relu')(net)\n",
    "    net = tf.keras.layers.Conv2D(128, (3, 3), padding='same')(net) \n",
    "    net = tf.keras.layers.Activation('relu')(net)\n",
    "    net = tf.keras.layers.MaxPooling2D(pool_size=(2, 2))(net) \n",
    "    net = tf.keras.layers.Dropout(0.25)(net)\n",
    "\n",
    "    net = tf.keras.layers.Flatten()(net) \n",
    "    net = tf.keras.layers.Dense(512)(net) \n",
    "    net = tf.keras.layers.Activation('relu')(net) \n",
    "    net = tf.keras.layers.Dropout(0.25)(net)\n",
    "    net = tf.keras.layers.Dense(10)(net) \n",
    "    net = tf.keras.layers.Activation('softmax')(net) \n",
    "\n",
    "    model = tf.keras.Model(inputs=inputs, outputs=net)\n",
    "    \n",
    "    return model"
   ]
  },
  {
   "cell_type": "code",
   "execution_count": 16,
   "metadata": {},
   "outputs": [],
   "source": [
    "model1 = create_model() \n",
    "\n",
    "model2 = create_model()"
   ]
  },
  {
   "cell_type": "code",
   "execution_count": 17,
   "metadata": {},
   "outputs": [],
   "source": [
    "model1.compile(optimizer=tf.keras.optimizers.Adam(0.001)\n",
    "            , loss='sparse_categorical_crossentropy'\n",
    "            , metrics=['accuracy'])\n",
    "model2.compile(optimizer=tf.keras.optimizers.Adam(0.001)\n",
    "            , loss='sparse_categorical_crossentropy'\n",
    "            , metrics=['accuracy'])"
   ]
  },
  {
   "cell_type": "code",
   "execution_count": 19,
   "metadata": {},
   "outputs": [
    {
     "name": "stdout",
     "output_type": "stream",
     "text": [
      "Epoch 1/3\n",
      "5000/5000 [==============================] - 125s 25ms/step - loss: 2.4289 - accuracy: 0.1081\n",
      "Epoch 2/3\n",
      "5000/5000 [==============================] - 122s 24ms/step - loss: 2.3050 - accuracy: 0.1001\n",
      "Epoch 3/3\n",
      "5000/5000 [==============================] - 122s 24ms/step - loss: 2.3068 - accuracy: 0.0990\n",
      "Epoch 1/3\n",
      "1000/1000 [==============================] - 5s 5ms/step - loss: 2.3097 - accuracy: 0.1018\n",
      "Epoch 2/3\n",
      "1000/1000 [==============================] - 5s 5ms/step - loss: 2.3057 - accuracy: 0.0963\n",
      "Epoch 3/3\n",
      "1000/1000 [==============================] - 5s 5ms/step - loss: 2.3023 - accuracy: 0.0986\n"
     ]
    }
   ],
   "source": [
    "with tf.device('/device:CPU:0'):\n",
    "    hist1 = model1.fit(x_train, y_train, batch_size=10, epochs=3)\n",
    "    \n",
    "with tf.device('/device:GPU:0'):\n",
    "    hist2 = model1.fit(x_test, y_test, batch_size=10, epochs=3)"
   ]
  },
  {
   "cell_type": "code",
   "execution_count": null,
   "metadata": {},
   "outputs": [],
   "source": []
  }
 ],
 "metadata": {
  "kernelspec": {
   "display_name": "Python 3.9.12 ('base')",
   "language": "python",
   "name": "python3"
  },
  "language_info": {
   "codemirror_mode": {
    "name": "ipython",
    "version": 3
   },
   "file_extension": ".py",
   "mimetype": "text/x-python",
   "name": "python",
   "nbconvert_exporter": "python",
   "pygments_lexer": "ipython3",
   "version": "3.9.12"
  },
  "orig_nbformat": 4,
  "vscode": {
   "interpreter": {
    "hash": "19d1d53a962d236aa061289c2ac16dc8e6d9648c89fe79f459ae9a3493bc67b4"
   }
  }
 },
 "nbformat": 4,
 "nbformat_minor": 2
}
